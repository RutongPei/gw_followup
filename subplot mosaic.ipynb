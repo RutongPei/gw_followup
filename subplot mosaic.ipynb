{
 "cells": [
  {
   "cell_type": "code",
   "execution_count": null,
   "metadata": {},
   "outputs": [],
   "source": [
    "from astropy.table import QTable\n",
    "from astropy import units as u\n",
    "import numpy as np\n",
    "from gwpy import table as table\n",
    "import pandas as pd\n",
    "import matplotlib.pyplot as plt\n",
    "from matplotlib.ticker import LogFormatterExponent\n",
    "%matplotlib inline\n",
    "template = '/global/homes/r/rutong/matplot_style/tri_template'\n",
    "plt.style.use(template)"
   ]
  },
  {
   "cell_type": "code",
   "execution_count": 3,
   "metadata": {},
   "outputs": [
    {
     "name": "stderr",
     "output_type": "stream",
     "text": [
      "UsageError: Line magic function `%ligo-skymap-stats` not found.\n"
     ]
    }
   ],
   "source": [
    "import ligo.skymap\n",
    "%ligo-skymap-stats fits/*.fits --contour 50 70 90 --area 10 100 --cosmology -j 32 -o stats.tsv"
   ]
  },
  {
   "cell_type": "code",
   "execution_count": 4,
   "metadata": {},
   "outputs": [],
   "source": [
    "import ligo.skymap"
   ]
  },
  {
   "cell_type": "code",
   "execution_count": null,
   "metadata": {},
   "outputs": [],
   "source": [
    "file_path = \"/global/homes/r/rutong/gw_followup/list_O5bbh.dat\"\n",
    "df = pd.read_csv(file_path, sep='\\t')\n",
    "\n",
    "def strtofloat(s):\n",
    "    return float(s[1:-1])\n",
    "\n",
    "m1 = df['mass1']\n",
    "m2 = df['mass2']\n",
    "m_total = m1 + m2\n",
    "\n",
    "area50 = df['Area50']\n",
    "area70 = df['Area70']\n",
    "area90 = df['Area90']\n",
    "\n",
    "vol50 = df['Vol50']\n",
    "vol70 = df['Vol70']\n",
    "vol90 = df['Vol90']\n",
    "\n",
    "dis70 = df['Dis70']\n",
    "dis50 = df['Dis50']\n",
    "\n",
    "dis = df['distance']\n",
    "\n",
    "# agn density = 10^-4.75 agn/volume \n",
    "# note: vol has units Mpc3\n",
    "agn_count = [v * 10 ** (-4.75) for v in vol90]\n",
    "\n",
    "# agn flare density = 10^-4 flare/agn\n",
    "agn_flare = [c * 10 ** (-4) for c in agn_count]"
   ]
  },
  {
   "cell_type": "code",
   "execution_count": null,
   "metadata": {},
   "outputs": [],
   "source": [
    "def dl (unit=True):\n",
    "    if (unit == False):\n",
    "        return r'$d_L$'\n",
    "    return r'$d_L$ [Mpc]'\n",
    "\n",
    "def log_n_agn():\n",
    "    return r'log$_{10}$ N$_{AGN}$'\n",
    "\n",
    "def mtotal(unit=True):\n",
    "    if (unit == False):\n",
    "        return r'm$_{total}$ '\n",
    "    return r'm$_{total}$ ' + r'[M$_{\\odot}]$'\n",
    "\n",
    "def area(a, unit=True):\n",
    "    s = str(a)\n",
    "    if (unit == False):\n",
    "        return 'area (' + s + r'$\\%$ CL)'\n",
    "    return 'area (' + s + r'$\\%$ CL)' + r'[deg$^{2}$]'"
   ]
  },
  {
   "cell_type": "code",
   "execution_count": null,
   "metadata": {},
   "outputs": [],
   "source": [
    "# Create the mosaic layout\n",
    "layout = [\n",
    "    [\"A\", \"B\"],\n",
    "    [\"C\", \".\"]\n",
    "]\n",
    "\n",
    "fig, axes = plt.subplot_mosaic(layout, figsize=(12, 10))\n",
    "\n",
    "# Plot m_total vs. d_l scatter (color by N_AGN)\n",
    "sc = axes['A'].scatter(dis, m_total, c=np.log10(agn_count), cmap='viridis', s=3)\n",
    "axes['A'].set_title(mtotal(unit=False) + ' vs. ' + dl(unit=False))\n",
    "axes['A'].set_xlabel(dl())\n",
    "axes['A'].set_ylabel(mtotal())\n",
    "axes['A'].set_xscale('log')\n",
    "axes['A'].set_yscale('log')\n",
    "cbar = fig.colorbar(sc, ax=axes['A'])\n",
    "cbar.set_label(log_n_agn())\n",
    "\n",
    "# Plot AGN flares CDF\n",
    "bin = np.logspace(-2, 2.2, 30)\n",
    "axes['B'].hist(agn_flare, bins=bin, edgecolor='black', cumulative=True, density=True, histtype='step')\n",
    "axes['B'].set_title('AGN Flares CDF')\n",
    "axes['B'].set_xlabel('AGN flare')\n",
    "axes['B'].set_ylabel('CDF')\n",
    "axes['B'].set_xscale('log')\n",
    "\n",
    "# Plot 70% area vs. d_l scatter (color by N_AGN)\n",
    "sc2 = axes['C'].scatter(dis, area70, c=np.log10(agn_count), cmap='plasma', s=3)\n",
    "axes['C'].set_title(area(70, unit=False) + ' vs. ' + dl(unit=False))\n",
    "axes['C'].set_xlabel(dl())\n",
    "axes['C'].set_ylabel(area(70))\n",
    "axes['C'].set_xscale('log')\n",
    "axes['C'].set_yscale('log')\n",
    "cbar2 = fig.colorbar(sc2, ax=axes['C'])\n",
    "cbar2.set_label(log_n_agn())\n",
    "\n",
    "# Adjust layout\n",
    "plt.tight_layout()\n",
    "plt.show()"
   ]
  }
 ],
 "metadata": {
  "kernelspec": {
   "display_name": "Python 3 (ipykernel)",
   "language": "python",
   "name": "python3"
  },
  "language_info": {
   "codemirror_mode": {
    "name": "ipython",
    "version": 3
   },
   "file_extension": ".py",
   "mimetype": "text/x-python",
   "name": "python",
   "nbconvert_exporter": "python",
   "pygments_lexer": "ipython3",
   "version": "3.11.9"
  }
 },
 "nbformat": 4,
 "nbformat_minor": 2
}
